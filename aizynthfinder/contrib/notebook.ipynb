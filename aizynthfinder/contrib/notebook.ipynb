{
  "cells": [
    {
      "cell_type": "markdown",
      "metadata": {
        "id": "ObD2YL7nM2_X"
      },
      "source": [
        "# AiZynthFinder\n",
        "\n",
        "Click the ▶ play button at the left of the **Start** text below to run the application. The initial installation process may take a few minutes.\n",
        "\n",
        "1. Enter the target compound [SMILES][1] code.\n",
        "3. Click the **Run Search** button to start the algorithm.\n",
        "4. Once it stops serching, click the **Show Reactions** button.\n",
        "\n",
        "[1]: https://en.wikipedia.org/wiki/Simplified_molecular-input_line-entry_system"
      ]
    },
    {
      "cell_type": "code",
      "execution_count": 1,
      "metadata": {
        "id": "beDP-CSNM429"
      },
      "outputs": [
        {
          "name": "stdout",
          "output_type": "stream",
          "text": [
            "Setting return first to False\n",
            "Loading template-based expansion policy model from /home/xjyao/data/xiaodanyin/work/yield-score-analysis/aizynthfinder/contrib/data/uspto_model.hdf5 to uspto\n",
            "Loading templates from /home/xjyao/data/xiaodanyin/work/yield-score-analysis/aizynthfinder/contrib/data/uspto_unique_templates.csv.gz to uspto\n",
            "Loading template-based expansion policy model from /home/xjyao/data/xiaodanyin/work/yield-score-analysis/aizynthfinder/contrib/data/uspto_ringbreaker_model.hdf5 to ringbreaker\n",
            "Loading templates from /home/xjyao/data/xiaodanyin/work/yield-score-analysis/aizynthfinder/contrib/data/uspto_ringbreaker_templates.csv.gz to ringbreaker\n",
            "Loading filter policy model from /home/xjyao/data/xiaodanyin/work/yield-score-analysis/aizynthfinder/contrib/data/uspto_filter_model.hdf5 to uspto\n",
            "Loading stock from /home/xjyao/data/xiaodanyin/work/yield-score-analysis/aizynthfinder/contrib/data/zinc_stock.hdf5 to zinc\n",
            "Selected as molecule cost: zero\n",
            "Using reaction yield scorer\n"
          ]
        },
        {
          "data": {
            "application/vnd.jupyter.widget-view+json": {
              "model_id": "9b808d445df04c5dad11c78991943bfd",
              "version_major": 2,
              "version_minor": 0
            },
            "text/plain": [
              "Text(value='', continuous_update=False, description='SMILES')"
            ]
          },
          "metadata": {},
          "output_type": "display_data"
        },
        {
          "data": {
            "application/vnd.jupyter.widget-view+json": {
              "model_id": "41b407f912684a02bf051d41a3da5040",
              "version_major": 2,
              "version_minor": 0
            },
            "text/plain": [
              "Output(layout=Layout(border='1px solid silver', height='180px', width='50%'))"
            ]
          },
          "metadata": {},
          "output_type": "display_data"
        },
        {
          "data": {
            "application/vnd.jupyter.widget-view+json": {
              "model_id": "6509ad3e03ba477bb66af65cda3cdefe",
              "version_major": 2,
              "version_minor": 0
            },
            "text/plain": [
              "Tab(children=(HBox(children=(VBox(children=(Label(value='Stocks'), Checkbox(value=True, description='zinc', st…"
            ]
          },
          "metadata": {},
          "output_type": "display_data"
        },
        {
          "data": {
            "application/vnd.jupyter.widget-view+json": {
              "model_id": "4e6615015a88413dbcabbc5def747e50",
              "version_major": 2,
              "version_minor": 0
            },
            "text/plain": [
              "HBox(children=(Button(description='Run Search', style=ButtonStyle()), Button(description='Extend Search', styl…"
            ]
          },
          "metadata": {},
          "output_type": "display_data"
        },
        {
          "data": {
            "application/vnd.jupyter.widget-view+json": {
              "model_id": "e41a2873f64f4c18b36531d4ee8b26b8",
              "version_major": 2,
              "version_minor": 0
            },
            "text/plain": [
              "Output(layout=Layout(border='1px solid silver', height='320px', overflow='auto', width='99%'))"
            ]
          },
          "metadata": {},
          "output_type": "display_data"
        },
        {
          "data": {
            "application/vnd.jupyter.widget-view+json": {
              "model_id": "e12b14579ae841fcb8d803c6970bf51f",
              "version_major": 2,
              "version_minor": 0
            },
            "text/plain": [
              "HBox(children=(Button(description='Show Reactions', style=ButtonStyle()), Dropdown(description='Routes: ', opt…"
            ]
          },
          "metadata": {},
          "output_type": "display_data"
        },
        {
          "data": {
            "application/vnd.jupyter.widget-view+json": {
              "model_id": "06edf97d5fb84fc1924417aa93c2a501",
              "version_major": 2,
              "version_minor": 0
            },
            "text/plain": [
              "Output(layout=Layout(border='1px solid silver', width='99%'))"
            ]
          },
          "metadata": {},
          "output_type": "display_data"
        }
      ],
      "source": [
        "#@title Start {display-mode: \"form\"}\n",
        "# !curl --location --silent bit.ly/rdkit-colab | tar xz -C /\n",
        "# !pip install --quiet graphviz\n",
        "# !pip install --quiet https://github.com/MolecularAI/aizynthfinder/archive/v2.2.1.tar.gz\n",
        "# !mkdir --parents data && download_public_data data\n",
        "from rdkit.Chem.Draw import IPythonConsole\n",
        "from aizynthfinder.interfaces import AiZynthApp\n",
        "import sys\n",
        "sys.path.append('./')\n",
        "application = AiZynthApp(\"./data/config.yml\")\n"
      ]
    },
    {
      "cell_type": "code",
      "execution_count": 6,
      "metadata": {},
      "outputs": [
        {
          "data": {
            "application/vnd.jupyter.widget-view+json": {
              "model_id": "57a27d36f0fa4ee2b71b4a491eb0ae84",
              "version_major": 2,
              "version_minor": 0
            },
            "text/plain": [
              "Output(layout=Layout(height='310px', overflow_y='auto', width='99%'))"
            ]
          },
          "metadata": {},
          "output_type": "display_data"
        },
        {
          "data": {
            "application/vnd.jupyter.widget-view+json": {
              "model_id": "40c3df76059f45d7b8f7dac83a833ec6",
              "version_major": 2,
              "version_minor": 0
            },
            "text/plain": [
              "HBox(children=(Label(value='Number of clusters to make'), BoundedIntText(value=1, continuous_update=True, layo…"
            ]
          },
          "metadata": {},
          "output_type": "display_data"
        },
        {
          "data": {
            "application/vnd.jupyter.widget-view+json": {
              "model_id": "848a4da34ac94777bf1e57bd5438a457",
              "version_major": 2,
              "version_minor": 0
            },
            "text/plain": [
              "Output()"
            ]
          },
          "metadata": {},
          "output_type": "display_data"
        },
        {
          "data": {
            "application/vnd.jupyter.widget-view+json": {
              "model_id": "c965519d856d4afba6ff48698e80dd2f",
              "version_major": 2,
              "version_minor": 0
            },
            "text/plain": [
              "Tab()"
            ]
          },
          "metadata": {},
          "output_type": "display_data"
        },
        {
          "data": {
            "text/plain": [
              "<aizynthfinder.interfaces.gui.clustering.ClusteringGui at 0x7f628d51a5e0>"
            ]
          },
          "execution_count": 6,
          "metadata": {},
          "output_type": "execute_result"
        }
      ],
      "source": [
        "%matplotlib inline\n",
        "from aizynthfinder.interfaces.gui import ClusteringGui\n",
        "ClusteringGui.from_app(application)"
      ]
    },
    {
      "cell_type": "markdown",
      "metadata": {
        "id": "bwxusoogwlI9"
      },
      "source": [
        "# Bibliography\n",
        "\n",
        "_Genheden S, Thakkar A, Chadimova V, et al (2020) AiZynthFinder: a fast, robust and flexible open-source software for retrosynthetic planning. J. Cheminf. https://doi.org/10.1186/s13321-020-00472-1 ([GitHub](https://github.com/MolecularAI/aizynthfinder) & [Documentation](https://molecularai.github.io/aizynthfinder/html/index.html))_"
      ]
    }
  ],
  "metadata": {
    "accelerator": "GPU",
    "colab": {
      "collapsed_sections": [],
      "name": "AiZynthFinder.ipynb",
      "private_outputs": true,
      "provenance": [],
      "toc_visible": true
    },
    "kernelspec": {
      "display_name": "Python 3",
      "language": "python",
      "name": "python3"
    },
    "language_info": {
      "codemirror_mode": {
        "name": "ipython",
        "version": 3
      },
      "file_extension": ".py",
      "mimetype": "text/x-python",
      "name": "python",
      "nbconvert_exporter": "python",
      "pygments_lexer": "ipython3",
      "version": "3.9.16"
    },
    "vscode": {
      "interpreter": {
        "hash": "71639d796c4383fabdff9784c7a75055477a8419514f2b4de2b874cf3fc37448"
      }
    }
  },
  "nbformat": 4,
  "nbformat_minor": 0
}
